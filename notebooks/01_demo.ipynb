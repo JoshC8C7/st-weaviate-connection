{
 "cells": [
  {
   "cell_type": "markdown",
   "metadata": {},
   "source": [
    "# Introduction"
   ]
  },
  {
   "attachments": {},
   "cell_type": "markdown",
   "metadata": {},
   "source": [
    "This notebook shows how to work with the Weaviate Streamlit connector. \n",
    "\n",
    "The Weaviate Streamlit connector is a Python package that allows you to easily create Streamlit apps that loads data from a Weaviate instance."
   ]
  },
  {
   "cell_type": "markdown",
   "metadata": {},
   "source": [
    "# Imports"
   ]
  },
  {
   "cell_type": "code",
   "execution_count": 1,
   "metadata": {},
   "outputs": [],
   "source": [
    "from st_weaviate_connection import WeaviateConnection\n",
    "import streamlit as st\n",
    "import os"
   ]
  },
  {
   "cell_type": "markdown",
   "metadata": {},
   "source": [
    "# Usage"
   ]
  },
  {
   "attachments": {},
   "cell_type": "markdown",
   "metadata": {},
   "source": [
    "## Connect to a Weaviate Cloud instance\n",
    "\n",
    "### Requirements\n",
    "\n",
    "#### Weaviate Cloud instance\n",
    "\n",
    "The easiest way to use this connector is with a [Weaviate Cloud](https://console.weaviate.cloud) instance, and to connect using the URL and the API key.\n",
    "\n",
    "This demo uses the following read-only credentials:\n",
    "\n",
    "```python\n",
    "weaviate_url = \"https://hha2nvjsruetknc5vxwrwa.c0.europe-west2.gcp.weaviate.cloud\"\n",
    "weaviate_apikey = \"nMZuw1z1zVtnjkXXOMGx9Ows7YWGsakItdus\"\n",
    "```\n",
    "\n",
    "You can create a free Weaviate Cloud instance by signing up [here](https://console.weaviate.cloud).\n",
    "\n",
    "#### (Optional) Inference API key\n",
    "\n",
    "The demo notebook uses hybrid search, which combines semantic search with a traditional (keyword) search to provide more accurate results. \n",
    "\n",
    "The `Movie` collection is set up to use OpenAI for semantic search. \n",
    "\n",
    "- If you do not have an OpenAI API key, you can sign up [here](https://platform.openai.com/signup).\n",
    "- If you do not wish to use the semantic search part of hybrid search, set the `alpha` value to `0` in the `hybrid_search` function."
   ]
  },
  {
   "cell_type": "code",
   "execution_count": 2,
   "metadata": {},
   "outputs": [
    {
     "name": "stderr",
     "output_type": "stream",
     "text": [
      "2024-07-30 16:27:05.452 \n",
      "  \u001b[33m\u001b[1mWarning:\u001b[0m to view this Streamlit app on a browser, run it with the following\n",
      "  command:\n",
      "\n",
      "    streamlit run /Users/jphwang/Library/Caches/pypoetry/virtualenvs/st-weaviate-connection-6uLZqwja-py3.11/lib/python3.11/site-packages/ipykernel_launcher.py [ARGUMENTS]\n"
     ]
    }
   ],
   "source": [
    "weaviate_url = os.environ[\"WEAVIATE_URL\"]\n",
    "weaviate_apikey = os.environ[\"WEAVIATE_API_KEY\"]\n",
    "openai_apikey = os.environ[\"OPENAI_API_KEY\"]  # Optional (for semantic search)\n",
    "\n",
    "conn = st.connection(\n",
    "    \"weaviate\",\n",
    "    type=WeaviateConnection,\n",
    "    url=weaviate_url,\n",
    "    api_key=weaviate_apikey,\n",
    "    additional_headers={\"X-OpenAI-Api-Key\": openai_apikey},\n",
    ")"
   ]
  },
  {
   "attachments": {},
   "cell_type": "markdown",
   "metadata": {},
   "source": [
    "## Querying Data"
   ]
  },
  {
   "attachments": {},
   "cell_type": "markdown",
   "metadata": {},
   "source": [
    "There are three convenience functions in the connector to query data:\n",
    "\n",
    "- `.hybrid_search`: Perform a hybrid search, which is a weighted combination of a semantic search and a keyword search.\n",
    "- `.graphql_query`: Perform a raw GraphQL query"
   ]
  },
  {
   "cell_type": "markdown",
   "metadata": {},
   "source": [
    "### Basic hybrid search"
   ]
  },
  {
   "cell_type": "markdown",
   "metadata": {},
   "source": [
    "A hybrid search is a weighted combination of a semantic search and a keyword search.\n",
    "\n",
    "For basic hybrid search, just provide the collection name and the search term.\n"
   ]
  },
  {
   "cell_type": "code",
   "execution_count": 7,
   "metadata": {},
   "outputs": [
    {
     "data": {
      "text/html": [
       "<div>\n",
       "<style scoped>\n",
       "    .dataframe tbody tr th:only-of-type {\n",
       "        vertical-align: middle;\n",
       "    }\n",
       "\n",
       "    .dataframe tbody tr th {\n",
       "        vertical-align: top;\n",
       "    }\n",
       "\n",
       "    .dataframe thead th {\n",
       "        text-align: right;\n",
       "    }\n",
       "</style>\n",
       "<table border=\"1\" class=\"dataframe\">\n",
       "  <thead>\n",
       "    <tr style=\"text-align: right;\">\n",
       "      <th></th>\n",
       "      <th>title</th>\n",
       "      <th>overview</th>\n",
       "      <th>release_date</th>\n",
       "      <th>tmdb_id</th>\n",
       "      <th>vote_average</th>\n",
       "      <th>genre_ids</th>\n",
       "    </tr>\n",
       "  </thead>\n",
       "  <tbody>\n",
       "    <tr>\n",
       "      <th>0</th>\n",
       "      <td>Onward</td>\n",
       "      <td>In a suburban fantasy world, two teenage elf b...</td>\n",
       "      <td>2020-02-29 00:00:00+00:00</td>\n",
       "      <td>508439</td>\n",
       "      <td>7.7</td>\n",
       "      <td>[10751, 16, 12, 35, 14]</td>\n",
       "    </tr>\n",
       "    <tr>\n",
       "      <th>1</th>\n",
       "      <td>Raya and the Last Dragon</td>\n",
       "      <td>Long ago, in the fantasy world of Kumandra, hu...</td>\n",
       "      <td>2021-03-03 00:00:00+00:00</td>\n",
       "      <td>527774</td>\n",
       "      <td>7.9</td>\n",
       "      <td>[16, 10751, 14, 28, 12]</td>\n",
       "    </tr>\n",
       "    <tr>\n",
       "      <th>2</th>\n",
       "      <td>Terminator 2: Judgment Day</td>\n",
       "      <td>Set ten years after the events of the original...</td>\n",
       "      <td>1991-07-03 00:00:00+00:00</td>\n",
       "      <td>280</td>\n",
       "      <td>8.1</td>\n",
       "      <td>[28, 53, 878]</td>\n",
       "    </tr>\n",
       "    <tr>\n",
       "      <th>3</th>\n",
       "      <td>Star Trek</td>\n",
       "      <td>The fate of the galaxy rests in the hands of b...</td>\n",
       "      <td>2009-05-06 00:00:00+00:00</td>\n",
       "      <td>13475</td>\n",
       "      <td>7.4</td>\n",
       "      <td>[878, 28, 12]</td>\n",
       "    </tr>\n",
       "    <tr>\n",
       "      <th>4</th>\n",
       "      <td>Everything Everywhere All at Once</td>\n",
       "      <td>An aging Chinese immigrant is swept up in an i...</td>\n",
       "      <td>2022-03-24 00:00:00+00:00</td>\n",
       "      <td>545611</td>\n",
       "      <td>7.8</td>\n",
       "      <td>[28, 12, 878]</td>\n",
       "    </tr>\n",
       "  </tbody>\n",
       "</table>\n",
       "</div>"
      ],
      "text/plain": [
       "                               title  \\\n",
       "0                             Onward   \n",
       "1           Raya and the Last Dragon   \n",
       "2         Terminator 2: Judgment Day   \n",
       "3                          Star Trek   \n",
       "4  Everything Everywhere All at Once   \n",
       "\n",
       "                                            overview  \\\n",
       "0  In a suburban fantasy world, two teenage elf b...   \n",
       "1  Long ago, in the fantasy world of Kumandra, hu...   \n",
       "2  Set ten years after the events of the original...   \n",
       "3  The fate of the galaxy rests in the hands of b...   \n",
       "4  An aging Chinese immigrant is swept up in an i...   \n",
       "\n",
       "               release_date  tmdb_id  vote_average                genre_ids  \n",
       "0 2020-02-29 00:00:00+00:00   508439           7.7  [10751, 16, 12, 35, 14]  \n",
       "1 2021-03-03 00:00:00+00:00   527774           7.9  [16, 10751, 14, 28, 12]  \n",
       "2 1991-07-03 00:00:00+00:00      280           8.1            [28, 53, 878]  \n",
       "3 2009-05-06 00:00:00+00:00    13475           7.4            [878, 28, 12]  \n",
       "4 2022-03-24 00:00:00+00:00   545611           7.8            [28, 12, 878]  "
      ]
     },
     "execution_count": 7,
     "metadata": {},
     "output_type": "execute_result"
    }
   ],
   "source": [
    "df = conn.hybrid_search(\n",
    "    collection_name=\"Movie\",\n",
    "    query=\"Fantasy or sci-fi drama\",\n",
    ")\n",
    "\n",
    "df.head()"
   ]
  },
  {
   "cell_type": "markdown",
   "metadata": {},
   "source": [
    "Additional parameters can be provided for more precise search results. Review the docstring for more information."
   ]
  },
  {
   "cell_type": "code",
   "execution_count": 12,
   "metadata": {},
   "outputs": [
    {
     "name": "stdout",
     "output_type": "stream",
     "text": [
      "\u001b[0;31mSignature:\u001b[0m\n",
      "\u001b[0mconn\u001b[0m\u001b[0;34m.\u001b[0m\u001b[0mhybrid_search\u001b[0m\u001b[0;34m(\u001b[0m\u001b[0;34m\u001b[0m\n",
      "\u001b[0;34m\u001b[0m    \u001b[0mcollection_name\u001b[0m\u001b[0;34m:\u001b[0m \u001b[0mstr\u001b[0m\u001b[0;34m,\u001b[0m\u001b[0;34m\u001b[0m\n",
      "\u001b[0;34m\u001b[0m    \u001b[0mquery\u001b[0m\u001b[0;34m:\u001b[0m \u001b[0mstr\u001b[0m\u001b[0;34m,\u001b[0m\u001b[0;34m\u001b[0m\n",
      "\u001b[0;34m\u001b[0m    \u001b[0mlimit\u001b[0m\u001b[0;34m:\u001b[0m \u001b[0mint\u001b[0m \u001b[0;34m=\u001b[0m \u001b[0;36m10\u001b[0m\u001b[0;34m,\u001b[0m\u001b[0;34m\u001b[0m\n",
      "\u001b[0;34m\u001b[0m    \u001b[0mfilters\u001b[0m\u001b[0;34m:\u001b[0m \u001b[0mOptional\u001b[0m\u001b[0;34m[\u001b[0m\u001b[0mweaviate\u001b[0m\u001b[0;34m.\u001b[0m\u001b[0mcollections\u001b[0m\u001b[0;34m.\u001b[0m\u001b[0mclasses\u001b[0m\u001b[0;34m.\u001b[0m\u001b[0mfilters\u001b[0m\u001b[0;34m.\u001b[0m\u001b[0m_Filters\u001b[0m\u001b[0;34m]\u001b[0m \u001b[0;34m=\u001b[0m \u001b[0;32mNone\u001b[0m\u001b[0;34m,\u001b[0m\u001b[0;34m\u001b[0m\n",
      "\u001b[0;34m\u001b[0m    \u001b[0mtarget_vectors\u001b[0m\u001b[0;34m:\u001b[0m \u001b[0mUnion\u001b[0m\u001b[0;34m[\u001b[0m\u001b[0mstr\u001b[0m\u001b[0;34m,\u001b[0m \u001b[0mList\u001b[0m\u001b[0;34m[\u001b[0m\u001b[0mstr\u001b[0m\u001b[0;34m]\u001b[0m\u001b[0;34m,\u001b[0m \u001b[0mweaviate\u001b[0m\u001b[0;34m.\u001b[0m\u001b[0mcollections\u001b[0m\u001b[0;34m.\u001b[0m\u001b[0mclasses\u001b[0m\u001b[0;34m.\u001b[0m\u001b[0mgrpc\u001b[0m\u001b[0;34m.\u001b[0m\u001b[0m_MultiTargetVectorJoin\u001b[0m\u001b[0;34m,\u001b[0m \u001b[0mNoneType\u001b[0m\u001b[0;34m]\u001b[0m \u001b[0;34m=\u001b[0m \u001b[0;32mNone\u001b[0m\u001b[0;34m,\u001b[0m\u001b[0;34m\u001b[0m\n",
      "\u001b[0;34m\u001b[0m    \u001b[0mquery_properties\u001b[0m\u001b[0;34m:\u001b[0m \u001b[0mOptional\u001b[0m\u001b[0;34m[\u001b[0m\u001b[0mList\u001b[0m\u001b[0;34m[\u001b[0m\u001b[0mstr\u001b[0m\u001b[0;34m]\u001b[0m\u001b[0;34m]\u001b[0m \u001b[0;34m=\u001b[0m \u001b[0;32mNone\u001b[0m\u001b[0;34m,\u001b[0m\u001b[0;34m\u001b[0m\n",
      "\u001b[0;34m\u001b[0m    \u001b[0malpha\u001b[0m\u001b[0;34m:\u001b[0m \u001b[0mfloat\u001b[0m \u001b[0;34m=\u001b[0m \u001b[0;36m0.5\u001b[0m\u001b[0;34m,\u001b[0m\u001b[0;34m\u001b[0m\n",
      "\u001b[0;34m\u001b[0m\u001b[0;34m)\u001b[0m \u001b[0;34m->\u001b[0m \u001b[0mpandas\u001b[0m\u001b[0;34m.\u001b[0m\u001b[0mcore\u001b[0m\u001b[0;34m.\u001b[0m\u001b[0mframe\u001b[0m\u001b[0;34m.\u001b[0m\u001b[0mDataFrame\u001b[0m\u001b[0;34m\u001b[0m\u001b[0;34m\u001b[0m\u001b[0m\n",
      "\u001b[0;31mSource:\u001b[0m   \n",
      "    \u001b[0;32mdef\u001b[0m \u001b[0mhybrid_search\u001b[0m\u001b[0;34m(\u001b[0m\u001b[0;34m\u001b[0m\n",
      "\u001b[0;34m\u001b[0m        \u001b[0mself\u001b[0m\u001b[0;34m,\u001b[0m\u001b[0;34m\u001b[0m\n",
      "\u001b[0;34m\u001b[0m        \u001b[0mcollection_name\u001b[0m\u001b[0;34m:\u001b[0m \u001b[0mstr\u001b[0m\u001b[0;34m,\u001b[0m\u001b[0;34m\u001b[0m\n",
      "\u001b[0;34m\u001b[0m        \u001b[0mquery\u001b[0m\u001b[0;34m:\u001b[0m \u001b[0mstr\u001b[0m\u001b[0;34m,\u001b[0m\u001b[0;34m\u001b[0m\n",
      "\u001b[0;34m\u001b[0m        \u001b[0mlimit\u001b[0m\u001b[0;34m:\u001b[0m \u001b[0mint\u001b[0m \u001b[0;34m=\u001b[0m \u001b[0;36m10\u001b[0m\u001b[0;34m,\u001b[0m\u001b[0;34m\u001b[0m\n",
      "\u001b[0;34m\u001b[0m        \u001b[0mfilters\u001b[0m\u001b[0;34m:\u001b[0m \u001b[0mOptional\u001b[0m\u001b[0;34m[\u001b[0m\u001b[0m_Filters\u001b[0m\u001b[0;34m]\u001b[0m \u001b[0;34m=\u001b[0m \u001b[0;32mNone\u001b[0m\u001b[0;34m,\u001b[0m\u001b[0;34m\u001b[0m\n",
      "\u001b[0;34m\u001b[0m        \u001b[0mtarget_vectors\u001b[0m\u001b[0;34m:\u001b[0m \u001b[0mOptional\u001b[0m\u001b[0;34m[\u001b[0m\u001b[0mTargetVectorJoinType\u001b[0m\u001b[0;34m]\u001b[0m \u001b[0;34m=\u001b[0m \u001b[0;32mNone\u001b[0m\u001b[0;34m,\u001b[0m\u001b[0;34m\u001b[0m\n",
      "\u001b[0;34m\u001b[0m        \u001b[0mquery_properties\u001b[0m\u001b[0;34m:\u001b[0m \u001b[0mOptional\u001b[0m\u001b[0;34m[\u001b[0m\u001b[0mList\u001b[0m\u001b[0;34m[\u001b[0m\u001b[0mstr\u001b[0m\u001b[0;34m]\u001b[0m\u001b[0;34m]\u001b[0m \u001b[0;34m=\u001b[0m \u001b[0;32mNone\u001b[0m\u001b[0;34m,\u001b[0m\u001b[0;34m\u001b[0m\n",
      "\u001b[0;34m\u001b[0m        \u001b[0malpha\u001b[0m\u001b[0;34m:\u001b[0m \u001b[0mfloat\u001b[0m \u001b[0;34m=\u001b[0m \u001b[0;36m0.5\u001b[0m\u001b[0;34m,\u001b[0m\u001b[0;34m\u001b[0m\n",
      "\u001b[0;34m\u001b[0m    \u001b[0;34m)\u001b[0m \u001b[0;34m->\u001b[0m \u001b[0mpd\u001b[0m\u001b[0;34m.\u001b[0m\u001b[0mDataFrame\u001b[0m\u001b[0;34m:\u001b[0m\u001b[0;34m\u001b[0m\n",
      "\u001b[0;34m\u001b[0m        \u001b[0;34m\"\"\"\u001b[0m\n",
      "\u001b[0;34m        Query a Weaviate collection using a simplified hybrid query.\u001b[0m\n",
      "\u001b[0;34m\u001b[0m\n",
      "\u001b[0;34m        Parameters\u001b[0m\n",
      "\u001b[0;34m        ----------\u001b[0m\n",
      "\u001b[0;34m        collection_name : str\u001b[0m\n",
      "\u001b[0;34m            The name of the collection to query.\u001b[0m\n",
      "\u001b[0;34m        query : str\u001b[0m\n",
      "\u001b[0;34m            The query to search for.\u001b[0m\n",
      "\u001b[0;34m        limit : int, optional\u001b[0m\n",
      "\u001b[0;34m            The number of results to return.\u001b[0m\n",
      "\u001b[0;34m            Default: 10.\u001b[0m\n",
      "\u001b[0;34m        filters : Filter, optional\u001b[0m\n",
      "\u001b[0;34m            The filters to apply to the query.\u001b[0m\n",
      "\u001b[0;34m            Import the `WeaviateFilter` class from `st_weaviate_connection` to use this argument.\u001b[0m\n",
      "\u001b[0;34m        target_vectors : string, List[string], List[TargetVectors], optional\u001b[0m\n",
      "\u001b[0;34m            The target vector(s) to search in the semantic search part of the query.\u001b[0m\n",
      "\u001b[0;34m            Only required if the target collection uses named vectors.\u001b[0m\n",
      "\u001b[0;34m            Optionally, import the `WeaviateTargetVectors` class from `st_weaviate_connection` to use this argument.\u001b[0m\n",
      "\u001b[0;34m        query_properties : List[str], optional\u001b[0m\n",
      "\u001b[0;34m            The properties to query in the keyword search part of the query.\u001b[0m\n",
      "\u001b[0;34m            If not provided, all properties are queried.\u001b[0m\n",
      "\u001b[0;34m        alpha: float, optional\u001b[0m\n",
      "\u001b[0;34m            The weight of the semantic search part of the query. (alpha=1 is a semantic search, alpha=0 is a keyword search).\u001b[0m\n",
      "\u001b[0;34m            If not provided, the Weaviate server default value is used.\u001b[0m\n",
      "\u001b[0;34m        \"\"\"\u001b[0m\u001b[0;34m\u001b[0m\n",
      "\u001b[0;34m\u001b[0m\u001b[0;34m\u001b[0m\n",
      "\u001b[0;34m\u001b[0m        \u001b[0mcollection\u001b[0m \u001b[0;34m=\u001b[0m \u001b[0mself\u001b[0m\u001b[0;34m.\u001b[0m\u001b[0m_client\u001b[0m\u001b[0;34m.\u001b[0m\u001b[0mcollections\u001b[0m\u001b[0;34m.\u001b[0m\u001b[0mget\u001b[0m\u001b[0;34m(\u001b[0m\u001b[0mname\u001b[0m\u001b[0;34m=\u001b[0m\u001b[0mcollection_name\u001b[0m\u001b[0;34m)\u001b[0m\u001b[0;34m\u001b[0m\n",
      "\u001b[0;34m\u001b[0m\u001b[0;34m\u001b[0m\n",
      "\u001b[0;34m\u001b[0m        \u001b[0;32mdef\u001b[0m \u001b[0m_hybrid_search\u001b[0m\u001b[0;34m(\u001b[0m\u001b[0;34m\u001b[0m\n",
      "\u001b[0;34m\u001b[0m            \u001b[0mquery\u001b[0m\u001b[0;34m:\u001b[0m \u001b[0mstr\u001b[0m\u001b[0;34m,\u001b[0m\u001b[0;34m\u001b[0m\n",
      "\u001b[0;34m\u001b[0m            \u001b[0mlimit\u001b[0m\u001b[0;34m:\u001b[0m \u001b[0mint\u001b[0m \u001b[0;34m=\u001b[0m \u001b[0;36m10\u001b[0m\u001b[0;34m,\u001b[0m\u001b[0;34m\u001b[0m\n",
      "\u001b[0;34m\u001b[0m            \u001b[0mfilters\u001b[0m\u001b[0;34m:\u001b[0m \u001b[0mOptional\u001b[0m\u001b[0;34m[\u001b[0m\u001b[0m_Filters\u001b[0m\u001b[0;34m]\u001b[0m \u001b[0;34m=\u001b[0m \u001b[0;32mNone\u001b[0m\u001b[0;34m,\u001b[0m\u001b[0;34m\u001b[0m\n",
      "\u001b[0;34m\u001b[0m            \u001b[0mtarget_vectors\u001b[0m\u001b[0;34m:\u001b[0m \u001b[0mOptional\u001b[0m\u001b[0;34m[\u001b[0m\u001b[0mTargetVectorJoinType\u001b[0m\u001b[0;34m]\u001b[0m \u001b[0;34m=\u001b[0m \u001b[0;32mNone\u001b[0m\u001b[0;34m,\u001b[0m\u001b[0;34m\u001b[0m\n",
      "\u001b[0;34m\u001b[0m            \u001b[0mquery_properties\u001b[0m\u001b[0;34m:\u001b[0m \u001b[0mOptional\u001b[0m\u001b[0;34m[\u001b[0m\u001b[0mList\u001b[0m\u001b[0;34m[\u001b[0m\u001b[0mstr\u001b[0m\u001b[0;34m]\u001b[0m\u001b[0;34m]\u001b[0m \u001b[0;34m=\u001b[0m \u001b[0;32mNone\u001b[0m\u001b[0;34m,\u001b[0m\u001b[0;34m\u001b[0m\n",
      "\u001b[0;34m\u001b[0m            \u001b[0malpha\u001b[0m\u001b[0;34m:\u001b[0m \u001b[0mfloat\u001b[0m \u001b[0;34m=\u001b[0m \u001b[0;32mNone\u001b[0m\u001b[0;34m,\u001b[0m\u001b[0;34m\u001b[0m\n",
      "\u001b[0;34m\u001b[0m        \u001b[0;34m)\u001b[0m\u001b[0;34m:\u001b[0m\u001b[0;34m\u001b[0m\n",
      "\u001b[0;34m\u001b[0m            \u001b[0mresponse\u001b[0m \u001b[0;34m=\u001b[0m \u001b[0mcollection\u001b[0m\u001b[0;34m.\u001b[0m\u001b[0mquery\u001b[0m\u001b[0;34m.\u001b[0m\u001b[0mhybrid\u001b[0m\u001b[0;34m(\u001b[0m\u001b[0;34m\u001b[0m\n",
      "\u001b[0;34m\u001b[0m                \u001b[0mquery\u001b[0m\u001b[0;34m=\u001b[0m\u001b[0mquery\u001b[0m\u001b[0;34m,\u001b[0m\u001b[0;34m\u001b[0m\n",
      "\u001b[0;34m\u001b[0m                \u001b[0mlimit\u001b[0m\u001b[0;34m=\u001b[0m\u001b[0mlimit\u001b[0m\u001b[0;34m,\u001b[0m\u001b[0;34m\u001b[0m\n",
      "\u001b[0;34m\u001b[0m                \u001b[0mfilters\u001b[0m\u001b[0;34m=\u001b[0m\u001b[0mfilters\u001b[0m\u001b[0;34m,\u001b[0m\u001b[0;34m\u001b[0m\n",
      "\u001b[0;34m\u001b[0m                \u001b[0mtarget_vector\u001b[0m\u001b[0;34m=\u001b[0m\u001b[0mtarget_vectors\u001b[0m\u001b[0;34m,\u001b[0m\u001b[0;34m\u001b[0m\n",
      "\u001b[0;34m\u001b[0m                \u001b[0mquery_properties\u001b[0m\u001b[0;34m=\u001b[0m\u001b[0mquery_properties\u001b[0m\u001b[0;34m,\u001b[0m\u001b[0;34m\u001b[0m\n",
      "\u001b[0;34m\u001b[0m                \u001b[0malpha\u001b[0m\u001b[0;34m=\u001b[0m\u001b[0malpha\u001b[0m\u001b[0;34m,\u001b[0m\u001b[0;34m\u001b[0m\n",
      "\u001b[0;34m\u001b[0m            \u001b[0;34m)\u001b[0m\u001b[0;34m\u001b[0m\n",
      "\u001b[0;34m\u001b[0m            \u001b[0;32mreturn\u001b[0m \u001b[0mresponse\u001b[0m\u001b[0;34m\u001b[0m\n",
      "\u001b[0;34m\u001b[0m\u001b[0;34m\u001b[0m\n",
      "\u001b[0;34m\u001b[0m        \u001b[0mresponse\u001b[0m \u001b[0;34m=\u001b[0m \u001b[0m_hybrid_search\u001b[0m\u001b[0;34m(\u001b[0m\u001b[0;34m\u001b[0m\n",
      "\u001b[0;34m\u001b[0m            \u001b[0mquery\u001b[0m\u001b[0;34m,\u001b[0m \u001b[0mlimit\u001b[0m\u001b[0;34m,\u001b[0m \u001b[0mfilters\u001b[0m\u001b[0;34m,\u001b[0m \u001b[0mtarget_vectors\u001b[0m\u001b[0;34m,\u001b[0m \u001b[0mquery_properties\u001b[0m\u001b[0;34m,\u001b[0m \u001b[0malpha\u001b[0m\u001b[0;34m\u001b[0m\n",
      "\u001b[0;34m\u001b[0m        \u001b[0;34m)\u001b[0m\u001b[0;34m\u001b[0m\n",
      "\u001b[0;34m\u001b[0m\u001b[0;34m\u001b[0m\n",
      "\u001b[0;34m\u001b[0m        \u001b[0;32mreturn\u001b[0m \u001b[0mweaviate_response_objects_to_df\u001b[0m\u001b[0;34m(\u001b[0m\u001b[0mresponse\u001b[0m\u001b[0;34m.\u001b[0m\u001b[0mobjects\u001b[0m\u001b[0;34m)\u001b[0m\u001b[0;34m\u001b[0m\u001b[0;34m\u001b[0m\u001b[0m\n",
      "\u001b[0;31mFile:\u001b[0m      ~/code/st-weaviate-connection/st_weaviate_connection/connection.py\n",
      "\u001b[0;31mType:\u001b[0m      method"
     ]
    }
   ],
   "source": [
    "conn.hybrid_search??"
   ]
  },
  {
   "cell_type": "markdown",
   "metadata": {},
   "source": [
    "For example, we can narrow down the results by the release date. Here is the same search, but only for movies from before 2010:"
   ]
  },
  {
   "cell_type": "code",
   "execution_count": 15,
   "metadata": {},
   "outputs": [
    {
     "name": "stderr",
     "output_type": "stream",
     "text": [
      "/Users/jphwang/Library/Caches/pypoetry/virtualenvs/st-weaviate-connection-6uLZqwja-py3.11/lib/python3.11/site-packages/weaviate/warnings.py:218: UserWarning: Con002: You are inserting the datetime object 2010-01-01 00:00:00 without a timezone. The timezone will be set to UTC.\n",
      "            To use a different timezone, specify it in the datetime object. For example:\n",
      "            datetime.datetime(2021, 1, 1, 0, 0, 0, tzinfo=datetime.timezone(-datetime.timedelta(hours=2))).isoformat() = 2021-01-01T00:00:00-02:00\n",
      "            \n",
      "  warnings.warn(\n"
     ]
    },
    {
     "data": {
      "text/html": [
       "<div>\n",
       "<style scoped>\n",
       "    .dataframe tbody tr th:only-of-type {\n",
       "        vertical-align: middle;\n",
       "    }\n",
       "\n",
       "    .dataframe tbody tr th {\n",
       "        vertical-align: top;\n",
       "    }\n",
       "\n",
       "    .dataframe thead th {\n",
       "        text-align: right;\n",
       "    }\n",
       "</style>\n",
       "<table border=\"1\" class=\"dataframe\">\n",
       "  <thead>\n",
       "    <tr style=\"text-align: right;\">\n",
       "      <th></th>\n",
       "      <th>title</th>\n",
       "      <th>overview</th>\n",
       "      <th>release_date</th>\n",
       "      <th>tmdb_id</th>\n",
       "      <th>vote_average</th>\n",
       "      <th>genre_ids</th>\n",
       "    </tr>\n",
       "  </thead>\n",
       "  <tbody>\n",
       "    <tr>\n",
       "      <th>0</th>\n",
       "      <td>Terminator 2: Judgment Day</td>\n",
       "      <td>Set ten years after the events of the original...</td>\n",
       "      <td>1991-07-03 00:00:00+00:00</td>\n",
       "      <td>280</td>\n",
       "      <td>8.1</td>\n",
       "      <td>[28, 53, 878]</td>\n",
       "    </tr>\n",
       "    <tr>\n",
       "      <th>1</th>\n",
       "      <td>Star Trek</td>\n",
       "      <td>The fate of the galaxy rests in the hands of b...</td>\n",
       "      <td>2009-05-06 00:00:00+00:00</td>\n",
       "      <td>13475</td>\n",
       "      <td>7.4</td>\n",
       "      <td>[878, 28, 12]</td>\n",
       "    </tr>\n",
       "    <tr>\n",
       "      <th>2</th>\n",
       "      <td>Stargate</td>\n",
       "      <td>An interstellar teleportation device, found in...</td>\n",
       "      <td>1994-10-28 00:00:00+00:00</td>\n",
       "      <td>2164</td>\n",
       "      <td>7.0</td>\n",
       "      <td>[28, 12, 878]</td>\n",
       "    </tr>\n",
       "    <tr>\n",
       "      <th>3</th>\n",
       "      <td>Avatar</td>\n",
       "      <td>In the 22nd century, a paraplegic Marine is di...</td>\n",
       "      <td>2009-12-15 00:00:00+00:00</td>\n",
       "      <td>19995</td>\n",
       "      <td>7.6</td>\n",
       "      <td>[28, 12, 14, 878]</td>\n",
       "    </tr>\n",
       "    <tr>\n",
       "      <th>4</th>\n",
       "      <td>The Matrix</td>\n",
       "      <td>Set in the 22nd century, The Matrix tells the ...</td>\n",
       "      <td>1999-03-31 00:00:00+00:00</td>\n",
       "      <td>603</td>\n",
       "      <td>8.2</td>\n",
       "      <td>[28, 878]</td>\n",
       "    </tr>\n",
       "  </tbody>\n",
       "</table>\n",
       "</div>"
      ],
      "text/plain": [
       "                        title  \\\n",
       "0  Terminator 2: Judgment Day   \n",
       "1                   Star Trek   \n",
       "2                    Stargate   \n",
       "3                      Avatar   \n",
       "4                  The Matrix   \n",
       "\n",
       "                                            overview  \\\n",
       "0  Set ten years after the events of the original...   \n",
       "1  The fate of the galaxy rests in the hands of b...   \n",
       "2  An interstellar teleportation device, found in...   \n",
       "3  In the 22nd century, a paraplegic Marine is di...   \n",
       "4  Set in the 22nd century, The Matrix tells the ...   \n",
       "\n",
       "               release_date  tmdb_id  vote_average          genre_ids  \n",
       "0 1991-07-03 00:00:00+00:00      280           8.1      [28, 53, 878]  \n",
       "1 2009-05-06 00:00:00+00:00    13475           7.4      [878, 28, 12]  \n",
       "2 1994-10-28 00:00:00+00:00     2164           7.0      [28, 12, 878]  \n",
       "3 2009-12-15 00:00:00+00:00    19995           7.6  [28, 12, 14, 878]  \n",
       "4 1999-03-31 00:00:00+00:00      603           8.2          [28, 878]  "
      ]
     },
     "execution_count": 15,
     "metadata": {},
     "output_type": "execute_result"
    }
   ],
   "source": [
    "from st_weaviate_connection import WeaviateFilter\n",
    "from datetime import datetime\n",
    "\n",
    "df = conn.hybrid_search(\n",
    "    collection_name=\"Movie\",\n",
    "    query=\"Fantasy or sci-fi drama\",\n",
    "    filters=WeaviateFilter.by_property(\"release_date\").less_than(datetime(2010, 1, 1))\n",
    ")\n",
    "\n",
    "df.head()"
   ]
  },
  {
   "cell_type": "markdown",
   "metadata": {},
   "source": [
    "If you prefer to use a raw GraphQL query, you can use the `.graphql_query` function."
   ]
  },
  {
   "cell_type": "code",
   "execution_count": null,
   "metadata": {},
   "outputs": [
    {
     "name": "stderr",
     "output_type": "stream",
     "text": [
      "2024-07-30 11:16:29.685 No runtime found, using MemoryCacheStorageManager\n",
      "2024-07-30 11:16:29.687 No runtime found, using MemoryCacheStorageManager\n"
     ]
    },
    {
     "data": {
      "text/html": [
       "<div>\n",
       "<style scoped>\n",
       "    .dataframe tbody tr th:only-of-type {\n",
       "        vertical-align: middle;\n",
       "    }\n",
       "\n",
       "    .dataframe tbody tr th {\n",
       "        vertical-align: top;\n",
       "    }\n",
       "\n",
       "    .dataframe thead th {\n",
       "        text-align: right;\n",
       "    }\n",
       "</style>\n",
       "<table border=\"1\" class=\"dataframe\">\n",
       "  <thead>\n",
       "    <tr style=\"text-align: right;\">\n",
       "      <th></th>\n",
       "      <th>_additional</th>\n",
       "      <th>overview</th>\n",
       "      <th>title</th>\n",
       "      <th>vote_average</th>\n",
       "    </tr>\n",
       "  </thead>\n",
       "  <tbody>\n",
       "    <tr>\n",
       "      <th>0</th>\n",
       "      <td>{'distance': 0.1794489}</td>\n",
       "      <td>Set in a 19th-century European village, this s...</td>\n",
       "      <td>Corpse Bride</td>\n",
       "      <td>7.5</td>\n",
       "    </tr>\n",
       "    <tr>\n",
       "      <th>1</th>\n",
       "      <td>{'distance': 0.1873132}</td>\n",
       "      <td>At the height of the First World War, two youn...</td>\n",
       "      <td>1917</td>\n",
       "      <td>8.0</td>\n",
       "    </tr>\n",
       "    <tr>\n",
       "      <th>2</th>\n",
       "      <td>{'distance': 0.1886223}</td>\n",
       "      <td>An epic tale of three brothers and their fathe...</td>\n",
       "      <td>Legends of the Fall</td>\n",
       "      <td>7.4</td>\n",
       "    </tr>\n",
       "    <tr>\n",
       "      <th>3</th>\n",
       "      <td>{'distance': 0.1949948}</td>\n",
       "      <td>Held captive for 7 years in an enclosed space,...</td>\n",
       "      <td>Room</td>\n",
       "      <td>8.0</td>\n",
       "    </tr>\n",
       "    <tr>\n",
       "      <th>4</th>\n",
       "      <td>{'distance': 0.19691008}</td>\n",
       "      <td>A vampire relates his epic life story of love,...</td>\n",
       "      <td>Interview with the Vampire</td>\n",
       "      <td>7.4</td>\n",
       "    </tr>\n",
       "    <tr>\n",
       "      <th>5</th>\n",
       "      <td>{'distance': 0.19889629}</td>\n",
       "      <td>A young man struggles to access sublimated chi...</td>\n",
       "      <td>The Butterfly Effect</td>\n",
       "      <td>7.6</td>\n",
       "    </tr>\n",
       "    <tr>\n",
       "      <th>6</th>\n",
       "      <td>{'distance': 0.19933802}</td>\n",
       "      <td>In war-torn colonial America, in the midst of ...</td>\n",
       "      <td>The Last of the Mohicans</td>\n",
       "      <td>7.4</td>\n",
       "    </tr>\n",
       "    <tr>\n",
       "      <th>7</th>\n",
       "      <td>{'distance': 0.20157182}</td>\n",
       "      <td>An epic love story centered around an older ma...</td>\n",
       "      <td>The Notebook</td>\n",
       "      <td>7.9</td>\n",
       "    </tr>\n",
       "    <tr>\n",
       "      <th>8</th>\n",
       "      <td>{'distance': 0.20218122}</td>\n",
       "      <td>An other-worldly story, set against the backdr...</td>\n",
       "      <td>The Shape of Water</td>\n",
       "      <td>7.2</td>\n",
       "    </tr>\n",
       "    <tr>\n",
       "      <th>9</th>\n",
       "      <td>{'distance': 0.20263833}</td>\n",
       "      <td>A burger-loving hit man, his philosophical par...</td>\n",
       "      <td>Pulp Fiction</td>\n",
       "      <td>8.5</td>\n",
       "    </tr>\n",
       "  </tbody>\n",
       "</table>\n",
       "</div>"
      ],
      "text/plain": [
       "                _additional  \\\n",
       "0   {'distance': 0.1794489}   \n",
       "1   {'distance': 0.1873132}   \n",
       "2   {'distance': 0.1886223}   \n",
       "3   {'distance': 0.1949948}   \n",
       "4  {'distance': 0.19691008}   \n",
       "5  {'distance': 0.19889629}   \n",
       "6  {'distance': 0.19933802}   \n",
       "7  {'distance': 0.20157182}   \n",
       "8  {'distance': 0.20218122}   \n",
       "9  {'distance': 0.20263833}   \n",
       "\n",
       "                                            overview  \\\n",
       "0  Set in a 19th-century European village, this s...   \n",
       "1  At the height of the First World War, two youn...   \n",
       "2  An epic tale of three brothers and their fathe...   \n",
       "3  Held captive for 7 years in an enclosed space,...   \n",
       "4  A vampire relates his epic life story of love,...   \n",
       "5  A young man struggles to access sublimated chi...   \n",
       "6  In war-torn colonial America, in the midst of ...   \n",
       "7  An epic love story centered around an older ma...   \n",
       "8  An other-worldly story, set against the backdr...   \n",
       "9  A burger-loving hit man, his philosophical par...   \n",
       "\n",
       "                        title  vote_average  \n",
       "0                Corpse Bride           7.5  \n",
       "1                        1917           8.0  \n",
       "2         Legends of the Fall           7.4  \n",
       "3                        Room           8.0  \n",
       "4  Interview with the Vampire           7.4  \n",
       "5        The Butterfly Effect           7.6  \n",
       "6    The Last of the Mohicans           7.4  \n",
       "7                The Notebook           7.9  \n",
       "8          The Shape of Water           7.2  \n",
       "9                Pulp Fiction           8.5  "
      ]
     },
     "execution_count": 6,
     "metadata": {},
     "output_type": "execute_result"
    }
   ],
   "source": [
    "gql = \"\"\"\n",
    "{\n",
    "  Get {\n",
    "    Movie (\n",
    "        limit: 10\n",
    "      nearText: {\n",
    "        concepts: [\"historical period film\"]\n",
    "      }\n",
    "    ) {\n",
    "      title\n",
    "      overview\n",
    "      vote_average\n",
    "      _additional {\n",
    "        distance\n",
    "      }\n",
    "    }\n",
    "  }\n",
    "}\n",
    "\"\"\"\n",
    "\n",
    "df = conn.graphql_query(gql)\n",
    "df"
   ]
  },
  {
   "cell_type": "markdown",
   "metadata": {},
   "source": [
    "## Advanced Usage\n",
    "\n",
    "The Streamlit connector is a thin wrapper around the Weaviate Python client. \n",
    "\n",
    "This means that you can use the Weaviate Python client directly to perform more advanced operations.\n",
    "\n",
    "We recommend using the client object in a context manager to ensure that no resources are leaked."
   ]
  },
  {
   "attachments": {},
   "cell_type": "markdown",
   "metadata": {},
   "source": [
    "### Example: Perform retrieval augmented generation"
   ]
  },
  {
   "cell_type": "code",
   "execution_count": null,
   "metadata": {},
   "outputs": [
    {
     "name": "stdout",
     "output_type": "stream",
     "text": [
      "## Generated recommendation\n",
      "I would recommend a bold red wine, such as the Herdade das Servas 2015 Sem Barrica Unoaked Red from Portugal, to pair well with a steak. The rich tannins and concentrated black fruit flavors of this wine would complement the flavors of the steak nicely.\n",
      "\n",
      "## Source data\n",
      "Title: Messias 2015 Santola White (Vinho Verde)\n",
      "Title: Gebeshuber 2013 Frizzante Rosé Pinot Noir (Österreichischer Perlwein)\n",
      "Title: Pietradolce 2012 Archineri Rosso  (Etna)\n",
      "Title: Herdade das Servas 2015 Sem Barrica Unoaked Red (Alentejano)\n"
     ]
    }
   ],
   "source": [
    "with conn.client() as client:\n",
    "    collection = client.collections.get(\"WineReview\")\n",
    "    response = collection.generate.hybrid(\n",
    "        limit=4,\n",
    "        query=\"a sweet european red wine\",\n",
    "        grouped_task=\"From these, recommend a wine that would pair well with a steak\",\n",
    "    )\n",
    "\n",
    "    print(\"## Generated recommendation\")\n",
    "    print(response.generated)\n",
    "    print(\"\\n## Source data\")\n",
    "    for o in response.objects:\n",
    "        print(f\"Title: {o.properties['title']}\")"
   ]
  },
  {
   "cell_type": "markdown",
   "metadata": {},
   "source": [
    "### Use a local Weaviate instance"
   ]
  },
  {
   "cell_type": "markdown",
   "metadata": {},
   "source": [
    "To connect to a local instance instead, specify the `url` parameter as `\"localhost\"`, and the connector will connect with default settings."
   ]
  },
  {
   "cell_type": "code",
   "execution_count": null,
   "metadata": {},
   "outputs": [],
   "source": [
    "conn = st.connection(\n",
    "    \"weaviate\",\n",
    "    type=WeaviateConnection,\n",
    "    url=\"localhost\",\n",
    ")"
   ]
  },
  {
   "attachments": {},
   "cell_type": "markdown",
   "metadata": {},
   "source": [
    "## Using Secrets"
   ]
  },
  {
   "attachments": {},
   "cell_type": "markdown",
   "metadata": {},
   "source": [
    "The following are valid values you can specify in your `secrets.toml` file when using this connection:\n",
    "\n",
    "| Config | Description |\n",
    "| --- | --- |\n",
    "| WEAVIATE_URL | The url of the weavite instance you want to connect to |\n",
    "| WEAVIATE_API_KEY | The corresponding api key of the weaviate instance you want to connect to (if applicable) |\n",
    "\n",
    "For more details, refer to:\n",
    "\n",
    "* [How to use secrets management](https://docs.streamlit.io/library/advanced-features/secrets-management#how-to-use-secrets-management)\n",
    "* [st.connection](https://docs.streamlit.io/library/api-reference/connections/st.connection)"
   ]
  },
  {
   "cell_type": "markdown",
   "metadata": {},
   "source": [
    "## Using the Weaviate client library directly\n",
    "\n",
    "You can also use the Weaviate client library directly to perform more advanced operations.\n",
    "\n",
    "Please see the [Weaviate Python client documentation](https://weaviate.io/developers/weaviate/client-libraries/python) for more information."
   ]
  }
 ],
 "metadata": {
  "kernelspec": {
   "display_name": "Python 3 (ipykernel)",
   "language": "python",
   "name": "python3"
  },
  "language_info": {
   "codemirror_mode": {
    "name": "ipython",
    "version": 3
   },
   "file_extension": ".py",
   "mimetype": "text/x-python",
   "name": "python",
   "nbconvert_exporter": "python",
   "pygments_lexer": "ipython3",
   "version": "3.11.6"
  }
 },
 "nbformat": 4,
 "nbformat_minor": 4
}

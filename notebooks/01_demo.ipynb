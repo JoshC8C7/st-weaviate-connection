{
 "cells": [
  {
   "cell_type": "markdown",
   "metadata": {
    "editable": true,
    "slideshow": {
     "slide_type": "slide"
    },
    "tags": []
   },
   "source": [
    "# Introduction"
   ]
  },
  {
   "attachments": {},
   "cell_type": "markdown",
   "metadata": {
    "editable": true,
    "slideshow": {
     "slide_type": ""
    },
    "tags": []
   },
   "source": [
    "This notebook shows how to work with the Weaviate Streamlit connector. \n",
    "\n",
    "The Weaviate Streamlit connector is a Python package that allows you to easily create Streamlit apps that loads data from a Weaviate instance."
   ]
  },
  {
   "cell_type": "markdown",
   "metadata": {
    "editable": true,
    "slideshow": {
     "slide_type": "slide"
    },
    "tags": []
   },
   "source": [
    "# Setup\n",
    "\n",
    "Imports & environment variables"
   ]
  },
  {
   "cell_type": "code",
   "execution_count": 2,
   "metadata": {
    "editable": true,
    "slideshow": {
     "slide_type": ""
    },
    "tags": []
   },
   "outputs": [],
   "source": [
    "from st_weaviate_connection import WeaviateConnection\n",
    "import streamlit as st\n",
    "import os\n",
    "\n",
    "weaviate_url = os.environ[\"WEAVIATE_URL\"]\n",
    "weaviate_apikey = os.environ[\"WEAVIATE_API_KEY\"]\n",
    "cohere_apikey = os.environ[\"COHERE_API_KEY\"]  # Optional (for semantic search)"
   ]
  },
  {
   "cell_type": "markdown",
   "metadata": {
    "editable": true,
    "slideshow": {
     "slide_type": "slide"
    },
    "tags": []
   },
   "source": [
    "# Usage"
   ]
  },
  {
   "attachments": {},
   "cell_type": "markdown",
   "metadata": {
    "editable": true,
    "slideshow": {
     "slide_type": ""
    },
    "tags": []
   },
   "source": [
    "## Requirements"
   ]
  },
  {
   "cell_type": "markdown",
   "metadata": {
    "editable": true,
    "slideshow": {
     "slide_type": "fragment"
    },
    "tags": []
   },
   "source": [
    "#### Weaviate Cloud instance\n",
    "\n",
    "The easiest way to use this connector is:\n",
    "- With a [Weaviate Cloud](https://console.weaviate.cloud) instance\n",
    "- Using the URL and the API key."
   ]
  },
  {
   "cell_type": "markdown",
   "metadata": {
    "editable": true,
    "slideshow": {
     "slide_type": "fragment"
    },
    "tags": []
   },
   "source": [
    "This demo uses the following read-only credentials:\n",
    "\n",
    "```python\n",
    "weaviate_url = \"https://hha2nvjsruetknc5vxwrwa.c0.europe-west2.gcp.weaviate.cloud\"\n",
    "weaviate_apikey = \"nMZuw1z1zVtnjkXXOMGx9Ows7YWGsakItdus\"\n",
    "```"
   ]
  },
  {
   "cell_type": "markdown",
   "metadata": {
    "editable": true,
    "slideshow": {
     "slide_type": "skip"
    },
    "tags": []
   },
   "source": [
    "**Note**: You can create a free Weaviate Cloud instance [here](https://console.weaviate.cloud)."
   ]
  },
  {
   "cell_type": "markdown",
   "metadata": {
    "editable": true,
    "slideshow": {
     "slide_type": "skip"
    },
    "tags": []
   },
   "source": [
    "#### (Optional) Inference API key\n",
    "\n",
    "The demo notebook uses hybrid search, which combines semantic search with a traditional (keyword) search to provide more accurate results. \n",
    "\n",
    "The `Movie` collection is set up to use Cohere for semantic search. \n",
    "\n",
    "- If you do not have an Cohere API key, you can sign up on their website.\n",
    "- If you do not wish to use the semantic search part of hybrid search, set the `alpha` value to `0` in the `query` function."
   ]
  },
  {
   "cell_type": "markdown",
   "metadata": {
    "editable": true,
    "slideshow": {
     "slide_type": "slide"
    },
    "tags": []
   },
   "source": [
    "## Connect to a Weaviate Cloud instance"
   ]
  },
  {
   "cell_type": "code",
   "execution_count": 3,
   "metadata": {
    "editable": true,
    "slideshow": {
     "slide_type": ""
    },
    "tags": []
   },
   "outputs": [
    {
     "name": "stderr",
     "output_type": "stream",
     "text": [
      "2024-07-31 17:14:00.219 \n",
      "  \u001b[33m\u001b[1mWarning:\u001b[0m to view this Streamlit app on a browser, run it with the following\n",
      "  command:\n",
      "\n",
      "    streamlit run /Users/jphwang/Library/Caches/pypoetry/virtualenvs/st-weaviate-connection-6uLZqwja-py3.11/lib/python3.11/site-packages/ipykernel_launcher.py [ARGUMENTS]\n"
     ]
    }
   ],
   "source": [
    "conn = st.connection(\n",
    "    \"weaviate\",\n",
    "    type=WeaviateConnection,\n",
    "    url=weaviate_url,\n",
    "    api_key=weaviate_apikey,\n",
    "    additional_headers={\"X-Cohere-Api-Key\": cohere_apikey},\n",
    ")"
   ]
  },
  {
   "attachments": {},
   "cell_type": "markdown",
   "metadata": {
    "editable": true,
    "slideshow": {
     "slide_type": "slide"
    },
    "tags": []
   },
   "source": [
    "## Querying Data"
   ]
  },
  {
   "attachments": {},
   "cell_type": "markdown",
   "metadata": {
    "editable": true,
    "slideshow": {
     "slide_type": ""
    },
    "tags": []
   },
   "source": [
    "There are two convenience methods in the connector to query data:\n",
    "\n",
    "- `.query()`: Perform a hybrid search, which is a weighted combination of a semantic search and a keyword search.\n",
    "- `.graphql_query()`: Perform a raw GraphQL query"
   ]
  },
  {
   "cell_type": "markdown",
   "metadata": {
    "editable": true,
    "slideshow": {
     "slide_type": "subslide"
    },
    "tags": []
   },
   "source": [
    "### Basic hybrid search"
   ]
  },
  {
   "cell_type": "markdown",
   "metadata": {
    "editable": true,
    "slideshow": {
     "slide_type": ""
    },
    "tags": []
   },
   "source": [
    "A hybrid search is a weighted combination of a semantic search and a keyword search.\n",
    "\n",
    "For basic hybrid search, just provide the collection name and the search term."
   ]
  },
  {
   "cell_type": "code",
   "execution_count": 4,
   "metadata": {
    "editable": true,
    "slideshow": {
     "slide_type": "subslide"
    },
    "tags": []
   },
   "outputs": [
    {
     "data": {
      "text/html": [
       "<div>\n",
       "<style scoped>\n",
       "    .dataframe tbody tr th:only-of-type {\n",
       "        vertical-align: middle;\n",
       "    }\n",
       "\n",
       "    .dataframe tbody tr th {\n",
       "        vertical-align: top;\n",
       "    }\n",
       "\n",
       "    .dataframe thead th {\n",
       "        text-align: right;\n",
       "    }\n",
       "</style>\n",
       "<table border=\"1\" class=\"dataframe\">\n",
       "  <thead>\n",
       "    <tr style=\"text-align: right;\">\n",
       "      <th></th>\n",
       "      <th>movie_id</th>\n",
       "      <th>vote_count</th>\n",
       "      <th>budget</th>\n",
       "      <th>tagline</th>\n",
       "      <th>overview</th>\n",
       "      <th>revenue</th>\n",
       "      <th>title</th>\n",
       "      <th>release_year</th>\n",
       "      <th>vote_average</th>\n",
       "      <th>genres</th>\n",
       "    </tr>\n",
       "  </thead>\n",
       "  <tbody>\n",
       "    <tr>\n",
       "      <th>0</th>\n",
       "      <td>83542</td>\n",
       "      <td>6786</td>\n",
       "      <td>102000000</td>\n",
       "      <td>Everything is Connected</td>\n",
       "      <td>A set of six nested stories spanning time betw...</td>\n",
       "      <td>130482868</td>\n",
       "      <td>Cloud Atlas</td>\n",
       "      <td>2012</td>\n",
       "      <td>6.882</td>\n",
       "      <td>[Drama, Science Fiction]</td>\n",
       "    </tr>\n",
       "    <tr>\n",
       "      <th>1</th>\n",
       "      <td>1124</td>\n",
       "      <td>15086</td>\n",
       "      <td>40000000</td>\n",
       "      <td>Are You Watching Closely?</td>\n",
       "      <td>A mysterious story of two magicians whose inte...</td>\n",
       "      <td>109676311</td>\n",
       "      <td>The Prestige</td>\n",
       "      <td>2006</td>\n",
       "      <td>8.203</td>\n",
       "      <td>[Drama, Mystery, Science Fiction]</td>\n",
       "    </tr>\n",
       "    <tr>\n",
       "      <th>2</th>\n",
       "      <td>419704</td>\n",
       "      <td>6271</td>\n",
       "      <td>87500000</td>\n",
       "      <td>The answers we seek are just outside our reach</td>\n",
       "      <td>The near future, a time when both hope and har...</td>\n",
       "      <td>127461872</td>\n",
       "      <td>Ad Astra</td>\n",
       "      <td>2019</td>\n",
       "      <td>6.100</td>\n",
       "      <td>[Science Fiction, Drama]</td>\n",
       "    </tr>\n",
       "    <tr>\n",
       "      <th>3</th>\n",
       "      <td>9294</td>\n",
       "      <td>1118</td>\n",
       "      <td>32000000</td>\n",
       "      <td>Some things in life just can't be explained.</td>\n",
       "      <td>An ordinary man sees a bright light descend fr...</td>\n",
       "      <td>152000000</td>\n",
       "      <td>Phenomenon</td>\n",
       "      <td>1996</td>\n",
       "      <td>6.402</td>\n",
       "      <td>[Drama, Romance, Science Fiction, Fantasy]</td>\n",
       "    </tr>\n",
       "    <tr>\n",
       "      <th>4</th>\n",
       "      <td>58244</td>\n",
       "      <td>2431</td>\n",
       "      <td>60000000</td>\n",
       "      <td>Two worlds. One future.</td>\n",
       "      <td>In an alternate universe where twinned worlds ...</td>\n",
       "      <td>22187813</td>\n",
       "      <td>Upside Down</td>\n",
       "      <td>2012</td>\n",
       "      <td>6.277</td>\n",
       "      <td>[Romance, Science Fiction, Drama, Fantasy]</td>\n",
       "    </tr>\n",
       "  </tbody>\n",
       "</table>\n",
       "</div>"
      ],
      "text/plain": [
       "   movie_id  vote_count     budget  \\\n",
       "0     83542        6786  102000000   \n",
       "1      1124       15086   40000000   \n",
       "2    419704        6271   87500000   \n",
       "3      9294        1118   32000000   \n",
       "4     58244        2431   60000000   \n",
       "\n",
       "                                          tagline  \\\n",
       "0                         Everything is Connected   \n",
       "1                       Are You Watching Closely?   \n",
       "2  The answers we seek are just outside our reach   \n",
       "3    Some things in life just can't be explained.   \n",
       "4                         Two worlds. One future.   \n",
       "\n",
       "                                            overview    revenue         title  \\\n",
       "0  A set of six nested stories spanning time betw...  130482868   Cloud Atlas   \n",
       "1  A mysterious story of two magicians whose inte...  109676311  The Prestige   \n",
       "2  The near future, a time when both hope and har...  127461872      Ad Astra   \n",
       "3  An ordinary man sees a bright light descend fr...  152000000    Phenomenon   \n",
       "4  In an alternate universe where twinned worlds ...   22187813   Upside Down   \n",
       "\n",
       "   release_year  vote_average                                      genres  \n",
       "0          2012         6.882                    [Drama, Science Fiction]  \n",
       "1          2006         8.203           [Drama, Mystery, Science Fiction]  \n",
       "2          2019         6.100                    [Science Fiction, Drama]  \n",
       "3          1996         6.402  [Drama, Romance, Science Fiction, Fantasy]  \n",
       "4          2012         6.277  [Romance, Science Fiction, Drama, Fantasy]  "
      ]
     },
     "execution_count": 4,
     "metadata": {},
     "output_type": "execute_result"
    }
   ],
   "source": [
    "df = conn.query(\n",
    "    collection_name=\"MovieDemo\",\n",
    "    query=\"Fantasy or sci-fi drama\",\n",
    ")\n",
    "\n",
    "df.head()"
   ]
  },
  {
   "cell_type": "markdown",
   "metadata": {
    "editable": true,
    "slideshow": {
     "slide_type": "subslide"
    },
    "tags": []
   },
   "source": [
    "Additional parameters can be provided for more precise search results. Review the docstring for more information."
   ]
  },
  {
   "cell_type": "code",
   "execution_count": 5,
   "metadata": {
    "editable": true,
    "slideshow": {
     "slide_type": "fragment"
    },
    "tags": []
   },
   "outputs": [
    {
     "data": {
      "text/plain": [
       "\u001b[0;31mSignature:\u001b[0m\n",
       "\u001b[0mconn\u001b[0m\u001b[0;34m.\u001b[0m\u001b[0mquery\u001b[0m\u001b[0;34m(\u001b[0m\u001b[0;34m\u001b[0m\n",
       "\u001b[0;34m\u001b[0m    \u001b[0mcollection_name\u001b[0m\u001b[0;34m:\u001b[0m \u001b[0mstr\u001b[0m\u001b[0;34m,\u001b[0m\u001b[0;34m\u001b[0m\n",
       "\u001b[0;34m\u001b[0m    \u001b[0mquery\u001b[0m\u001b[0;34m:\u001b[0m \u001b[0mstr\u001b[0m\u001b[0;34m,\u001b[0m\u001b[0;34m\u001b[0m\n",
       "\u001b[0;34m\u001b[0m    \u001b[0mlimit\u001b[0m\u001b[0;34m:\u001b[0m \u001b[0mint\u001b[0m \u001b[0;34m=\u001b[0m \u001b[0;36m10\u001b[0m\u001b[0;34m,\u001b[0m\u001b[0;34m\u001b[0m\n",
       "\u001b[0;34m\u001b[0m    \u001b[0mfilters\u001b[0m\u001b[0;34m:\u001b[0m \u001b[0mOptional\u001b[0m\u001b[0;34m[\u001b[0m\u001b[0mweaviate\u001b[0m\u001b[0;34m.\u001b[0m\u001b[0mcollections\u001b[0m\u001b[0;34m.\u001b[0m\u001b[0mclasses\u001b[0m\u001b[0;34m.\u001b[0m\u001b[0mfilters\u001b[0m\u001b[0;34m.\u001b[0m\u001b[0m_Filters\u001b[0m\u001b[0;34m]\u001b[0m \u001b[0;34m=\u001b[0m \u001b[0;32mNone\u001b[0m\u001b[0;34m,\u001b[0m\u001b[0;34m\u001b[0m\n",
       "\u001b[0;34m\u001b[0m    \u001b[0mtarget_vectors\u001b[0m\u001b[0;34m:\u001b[0m \u001b[0mUnion\u001b[0m\u001b[0;34m[\u001b[0m\u001b[0mstr\u001b[0m\u001b[0;34m,\u001b[0m \u001b[0mList\u001b[0m\u001b[0;34m[\u001b[0m\u001b[0mstr\u001b[0m\u001b[0;34m]\u001b[0m\u001b[0;34m,\u001b[0m \u001b[0mweaviate\u001b[0m\u001b[0;34m.\u001b[0m\u001b[0mcollections\u001b[0m\u001b[0;34m.\u001b[0m\u001b[0mclasses\u001b[0m\u001b[0;34m.\u001b[0m\u001b[0mgrpc\u001b[0m\u001b[0;34m.\u001b[0m\u001b[0m_MultiTargetVectorJoin\u001b[0m\u001b[0;34m,\u001b[0m \u001b[0mNoneType\u001b[0m\u001b[0;34m]\u001b[0m \u001b[0;34m=\u001b[0m \u001b[0;32mNone\u001b[0m\u001b[0;34m,\u001b[0m\u001b[0;34m\u001b[0m\n",
       "\u001b[0;34m\u001b[0m    \u001b[0mquery_properties\u001b[0m\u001b[0;34m:\u001b[0m \u001b[0mOptional\u001b[0m\u001b[0;34m[\u001b[0m\u001b[0mList\u001b[0m\u001b[0;34m[\u001b[0m\u001b[0mstr\u001b[0m\u001b[0;34m]\u001b[0m\u001b[0;34m]\u001b[0m \u001b[0;34m=\u001b[0m \u001b[0;32mNone\u001b[0m\u001b[0;34m,\u001b[0m\u001b[0;34m\u001b[0m\n",
       "\u001b[0;34m\u001b[0m    \u001b[0mreturn_properties\u001b[0m\u001b[0;34m:\u001b[0m \u001b[0mOptional\u001b[0m\u001b[0;34m[\u001b[0m\u001b[0mList\u001b[0m\u001b[0;34m[\u001b[0m\u001b[0mstr\u001b[0m\u001b[0;34m]\u001b[0m\u001b[0;34m]\u001b[0m \u001b[0;34m=\u001b[0m \u001b[0;32mNone\u001b[0m\u001b[0;34m,\u001b[0m\u001b[0;34m\u001b[0m\n",
       "\u001b[0;34m\u001b[0m    \u001b[0malpha\u001b[0m\u001b[0;34m:\u001b[0m \u001b[0mfloat\u001b[0m \u001b[0;34m=\u001b[0m \u001b[0;36m0.7\u001b[0m\u001b[0;34m,\u001b[0m\u001b[0;34m\u001b[0m\n",
       "\u001b[0;34m\u001b[0m\u001b[0;34m)\u001b[0m \u001b[0;34m->\u001b[0m \u001b[0mpandas\u001b[0m\u001b[0;34m.\u001b[0m\u001b[0mcore\u001b[0m\u001b[0;34m.\u001b[0m\u001b[0mframe\u001b[0m\u001b[0;34m.\u001b[0m\u001b[0mDataFrame\u001b[0m\u001b[0;34m\u001b[0m\u001b[0;34m\u001b[0m\u001b[0m\n",
       "\u001b[0;31mSource:\u001b[0m   \n",
       "    \u001b[0;32mdef\u001b[0m \u001b[0mquery\u001b[0m\u001b[0;34m(\u001b[0m\u001b[0;34m\u001b[0m\n",
       "\u001b[0;34m\u001b[0m        \u001b[0mself\u001b[0m\u001b[0;34m,\u001b[0m\u001b[0;34m\u001b[0m\n",
       "\u001b[0;34m\u001b[0m        \u001b[0mcollection_name\u001b[0m\u001b[0;34m:\u001b[0m \u001b[0mstr\u001b[0m\u001b[0;34m,\u001b[0m\u001b[0;34m\u001b[0m\n",
       "\u001b[0;34m\u001b[0m        \u001b[0mquery\u001b[0m\u001b[0;34m:\u001b[0m \u001b[0mstr\u001b[0m\u001b[0;34m,\u001b[0m\u001b[0;34m\u001b[0m\n",
       "\u001b[0;34m\u001b[0m        \u001b[0mlimit\u001b[0m\u001b[0;34m:\u001b[0m \u001b[0mint\u001b[0m \u001b[0;34m=\u001b[0m \u001b[0;36m10\u001b[0m\u001b[0;34m,\u001b[0m\u001b[0;34m\u001b[0m\n",
       "\u001b[0;34m\u001b[0m        \u001b[0mfilters\u001b[0m\u001b[0;34m:\u001b[0m \u001b[0mOptional\u001b[0m\u001b[0;34m[\u001b[0m\u001b[0m_Filters\u001b[0m\u001b[0;34m]\u001b[0m \u001b[0;34m=\u001b[0m \u001b[0;32mNone\u001b[0m\u001b[0;34m,\u001b[0m\u001b[0;34m\u001b[0m\n",
       "\u001b[0;34m\u001b[0m        \u001b[0mtarget_vectors\u001b[0m\u001b[0;34m:\u001b[0m \u001b[0mOptional\u001b[0m\u001b[0;34m[\u001b[0m\u001b[0mTargetVectorJoinType\u001b[0m\u001b[0;34m]\u001b[0m \u001b[0;34m=\u001b[0m \u001b[0;32mNone\u001b[0m\u001b[0;34m,\u001b[0m\u001b[0;34m\u001b[0m\n",
       "\u001b[0;34m\u001b[0m        \u001b[0mquery_properties\u001b[0m\u001b[0;34m:\u001b[0m \u001b[0mOptional\u001b[0m\u001b[0;34m[\u001b[0m\u001b[0mList\u001b[0m\u001b[0;34m[\u001b[0m\u001b[0mstr\u001b[0m\u001b[0;34m]\u001b[0m\u001b[0;34m]\u001b[0m \u001b[0;34m=\u001b[0m \u001b[0;32mNone\u001b[0m\u001b[0;34m,\u001b[0m\u001b[0;34m\u001b[0m\n",
       "\u001b[0;34m\u001b[0m        \u001b[0mreturn_properties\u001b[0m\u001b[0;34m:\u001b[0m \u001b[0mOptional\u001b[0m\u001b[0;34m[\u001b[0m\u001b[0mList\u001b[0m\u001b[0;34m[\u001b[0m\u001b[0mstr\u001b[0m\u001b[0;34m]\u001b[0m\u001b[0;34m]\u001b[0m \u001b[0;34m=\u001b[0m \u001b[0;32mNone\u001b[0m\u001b[0;34m,\u001b[0m\u001b[0;34m\u001b[0m\n",
       "\u001b[0;34m\u001b[0m        \u001b[0malpha\u001b[0m\u001b[0;34m:\u001b[0m \u001b[0mfloat\u001b[0m \u001b[0;34m=\u001b[0m \u001b[0;36m0.7\u001b[0m\u001b[0;34m,\u001b[0m\u001b[0;34m\u001b[0m\n",
       "\u001b[0;34m\u001b[0m    \u001b[0;34m)\u001b[0m \u001b[0;34m->\u001b[0m \u001b[0mpd\u001b[0m\u001b[0;34m.\u001b[0m\u001b[0mDataFrame\u001b[0m\u001b[0;34m:\u001b[0m\u001b[0;34m\u001b[0m\n",
       "\u001b[0;34m\u001b[0m        \u001b[0;34m\"\"\"\u001b[0m\n",
       "\u001b[0;34m        Query a Weaviate collection using a simplified hybrid query.\u001b[0m\n",
       "\u001b[0;34m\u001b[0m\n",
       "\u001b[0;34m        Parameters\u001b[0m\n",
       "\u001b[0;34m        ----------\u001b[0m\n",
       "\u001b[0;34m        collection_name : str\u001b[0m\n",
       "\u001b[0;34m            The name of the collection to query.\u001b[0m\n",
       "\u001b[0;34m        query : str\u001b[0m\n",
       "\u001b[0;34m            The query to search for.\u001b[0m\n",
       "\u001b[0;34m        limit : int, optional\u001b[0m\n",
       "\u001b[0;34m            The number of results to return.\u001b[0m\n",
       "\u001b[0;34m            Default: 10.\u001b[0m\n",
       "\u001b[0;34m        filters : Filter, optional\u001b[0m\n",
       "\u001b[0;34m            The filters to apply to the query.\u001b[0m\n",
       "\u001b[0;34m            Import the `WeaviateFilter` class from `st_weaviate_connection` to use this argument.\u001b[0m\n",
       "\u001b[0;34m        target_vectors : string, List[string], List[TargetVectors], optional\u001b[0m\n",
       "\u001b[0;34m            The target vector(s) to search in the semantic search part of the query.\u001b[0m\n",
       "\u001b[0;34m            Only required if the target collection uses named vectors.\u001b[0m\n",
       "\u001b[0;34m            Optionally, import the `WeaviateTargetVectors` class from `st_weaviate_connection` to use this argument.\u001b[0m\n",
       "\u001b[0;34m        query_properties : List[str], optional\u001b[0m\n",
       "\u001b[0;34m            The properties to query in the keyword search part of the query.\u001b[0m\n",
       "\u001b[0;34m            If not provided, all properties are queried.\u001b[0m\n",
       "\u001b[0;34m        return_properties : List[str], optional\u001b[0m\n",
       "\u001b[0;34m            The properties to return in the query.\u001b[0m\n",
       "\u001b[0;34m            If not provided, all properties are returned, except for BLOBs.\u001b[0m\n",
       "\u001b[0;34m        alpha: float, optional\u001b[0m\n",
       "\u001b[0;34m            The weight of the semantic search part of the query. (alpha=1 is a semantic search, alpha=0 is a keyword search).\u001b[0m\n",
       "\u001b[0;34m            If not provided, the Weaviate server default value is used.\u001b[0m\n",
       "\u001b[0;34m        \"\"\"\u001b[0m\u001b[0;34m\u001b[0m\n",
       "\u001b[0;34m\u001b[0m        \u001b[0mself\u001b[0m\u001b[0;34m.\u001b[0m\u001b[0m_connect\u001b[0m\u001b[0;34m(\u001b[0m\u001b[0;34m)\u001b[0m\u001b[0;34m\u001b[0m\n",
       "\u001b[0;34m\u001b[0m\u001b[0;34m\u001b[0m\n",
       "\u001b[0;34m\u001b[0m        \u001b[0mcollection\u001b[0m \u001b[0;34m=\u001b[0m \u001b[0mself\u001b[0m\u001b[0;34m.\u001b[0m\u001b[0m_client\u001b[0m\u001b[0;34m.\u001b[0m\u001b[0mcollections\u001b[0m\u001b[0;34m.\u001b[0m\u001b[0mget\u001b[0m\u001b[0;34m(\u001b[0m\u001b[0mname\u001b[0m\u001b[0;34m=\u001b[0m\u001b[0mcollection_name\u001b[0m\u001b[0;34m)\u001b[0m\u001b[0;34m\u001b[0m\n",
       "\u001b[0;34m\u001b[0m\u001b[0;34m\u001b[0m\n",
       "\u001b[0;34m\u001b[0m        \u001b[0mresponse\u001b[0m \u001b[0;34m=\u001b[0m \u001b[0mcollection\u001b[0m\u001b[0;34m.\u001b[0m\u001b[0mquery\u001b[0m\u001b[0;34m.\u001b[0m\u001b[0mhybrid\u001b[0m\u001b[0;34m(\u001b[0m\u001b[0;34m\u001b[0m\n",
       "\u001b[0;34m\u001b[0m            \u001b[0mquery\u001b[0m\u001b[0;34m=\u001b[0m\u001b[0mquery\u001b[0m\u001b[0;34m,\u001b[0m\u001b[0;34m\u001b[0m\n",
       "\u001b[0;34m\u001b[0m            \u001b[0mlimit\u001b[0m\u001b[0;34m=\u001b[0m\u001b[0mlimit\u001b[0m\u001b[0;34m,\u001b[0m\u001b[0;34m\u001b[0m\n",
       "\u001b[0;34m\u001b[0m            \u001b[0mfilters\u001b[0m\u001b[0;34m=\u001b[0m\u001b[0mfilters\u001b[0m\u001b[0;34m,\u001b[0m\u001b[0;34m\u001b[0m\n",
       "\u001b[0;34m\u001b[0m            \u001b[0mtarget_vector\u001b[0m\u001b[0;34m=\u001b[0m\u001b[0mtarget_vectors\u001b[0m\u001b[0;34m,\u001b[0m\u001b[0;34m\u001b[0m\n",
       "\u001b[0;34m\u001b[0m            \u001b[0mquery_properties\u001b[0m\u001b[0;34m=\u001b[0m\u001b[0mquery_properties\u001b[0m\u001b[0;34m,\u001b[0m\u001b[0;34m\u001b[0m\n",
       "\u001b[0;34m\u001b[0m            \u001b[0mreturn_properties\u001b[0m\u001b[0;34m=\u001b[0m\u001b[0mreturn_properties\u001b[0m\u001b[0;34m,\u001b[0m\u001b[0;34m\u001b[0m\n",
       "\u001b[0;34m\u001b[0m            \u001b[0malpha\u001b[0m\u001b[0;34m=\u001b[0m\u001b[0malpha\u001b[0m\u001b[0;34m,\u001b[0m\u001b[0;34m\u001b[0m\n",
       "\u001b[0;34m\u001b[0m        \u001b[0;34m)\u001b[0m\u001b[0;34m\u001b[0m\n",
       "\u001b[0;34m\u001b[0m\u001b[0;34m\u001b[0m\n",
       "\u001b[0;34m\u001b[0m        \u001b[0;32mreturn\u001b[0m \u001b[0mweaviate_response_objects_to_df\u001b[0m\u001b[0;34m(\u001b[0m\u001b[0mresponse\u001b[0m\u001b[0;34m.\u001b[0m\u001b[0mobjects\u001b[0m\u001b[0;34m)\u001b[0m\u001b[0;34m\u001b[0m\u001b[0;34m\u001b[0m\u001b[0m\n",
       "\u001b[0;31mFile:\u001b[0m      ~/code/st-weaviate-connection/st_weaviate_connection/connection.py\n",
       "\u001b[0;31mType:\u001b[0m      method"
      ]
     },
     "metadata": {},
     "output_type": "display_data"
    }
   ],
   "source": [
    "conn.query??"
   ]
  },
  {
   "cell_type": "markdown",
   "metadata": {
    "editable": true,
    "slideshow": {
     "slide_type": "slide"
    },
    "tags": []
   },
   "source": [
    "For example, we can narrow down the results by the release date. Here is the same search, but only for movies from before 2010:"
   ]
  },
  {
   "cell_type": "code",
   "execution_count": 6,
   "metadata": {
    "editable": true,
    "slideshow": {
     "slide_type": "fragment"
    },
    "tags": []
   },
   "outputs": [
    {
     "data": {
      "text/html": [
       "<div>\n",
       "<style scoped>\n",
       "    .dataframe tbody tr th:only-of-type {\n",
       "        vertical-align: middle;\n",
       "    }\n",
       "\n",
       "    .dataframe tbody tr th {\n",
       "        vertical-align: top;\n",
       "    }\n",
       "\n",
       "    .dataframe thead th {\n",
       "        text-align: right;\n",
       "    }\n",
       "</style>\n",
       "<table border=\"1\" class=\"dataframe\">\n",
       "  <thead>\n",
       "    <tr style=\"text-align: right;\">\n",
       "      <th></th>\n",
       "      <th>movie_id</th>\n",
       "      <th>vote_count</th>\n",
       "      <th>budget</th>\n",
       "      <th>tagline</th>\n",
       "      <th>title</th>\n",
       "      <th>revenue</th>\n",
       "      <th>overview</th>\n",
       "      <th>release_year</th>\n",
       "      <th>vote_average</th>\n",
       "      <th>genres</th>\n",
       "    </tr>\n",
       "  </thead>\n",
       "  <tbody>\n",
       "    <tr>\n",
       "      <th>0</th>\n",
       "      <td>14337</td>\n",
       "      <td>2098</td>\n",
       "      <td>7000</td>\n",
       "      <td>What happens if it actually works?</td>\n",
       "      <td>Primer</td>\n",
       "      <td>545436</td>\n",
       "      <td>Two fledgling inventors discover a complex met...</td>\n",
       "      <td>2004</td>\n",
       "      <td>6.768</td>\n",
       "      <td>[Science Fiction, Drama, Thriller]</td>\n",
       "    </tr>\n",
       "    <tr>\n",
       "      <th>1</th>\n",
       "      <td>1124</td>\n",
       "      <td>15086</td>\n",
       "      <td>40000000</td>\n",
       "      <td>Are You Watching Closely?</td>\n",
       "      <td>The Prestige</td>\n",
       "      <td>109676311</td>\n",
       "      <td>A mysterious story of two magicians whose inte...</td>\n",
       "      <td>2006</td>\n",
       "      <td>8.203</td>\n",
       "      <td>[Drama, Mystery, Science Fiction]</td>\n",
       "    </tr>\n",
       "    <tr>\n",
       "      <th>2</th>\n",
       "      <td>34584</td>\n",
       "      <td>3786</td>\n",
       "      <td>27000000</td>\n",
       "      <td>A boy who needs a friend finds a world that ne...</td>\n",
       "      <td>The NeverEnding Story</td>\n",
       "      <td>20158808</td>\n",
       "      <td>While hiding from bullies in his school's atti...</td>\n",
       "      <td>1984</td>\n",
       "      <td>7.194</td>\n",
       "      <td>[Adventure, Fantasy, Family, Drama]</td>\n",
       "    </tr>\n",
       "    <tr>\n",
       "      <th>3</th>\n",
       "      <td>25376</td>\n",
       "      <td>2469</td>\n",
       "      <td>2000000</td>\n",
       "      <td>An unsolved crime. A love story. An unwritten ...</td>\n",
       "      <td>The Secret in Their Eyes</td>\n",
       "      <td>33965843</td>\n",
       "      <td>Hoping to put to rest years of unease concerni...</td>\n",
       "      <td>2009</td>\n",
       "      <td>8.002</td>\n",
       "      <td>[Mystery, Thriller, Drama]</td>\n",
       "    </tr>\n",
       "    <tr>\n",
       "      <th>4</th>\n",
       "      <td>1024</td>\n",
       "      <td>882</td>\n",
       "      <td>5000000</td>\n",
       "      <td>Not all angels are innocent.</td>\n",
       "      <td>Heavenly Creatures</td>\n",
       "      <td>3049135</td>\n",
       "      <td>Wealthy and precocious teenager Juliet transfe...</td>\n",
       "      <td>1994</td>\n",
       "      <td>7.000</td>\n",
       "      <td>[Drama, Fantasy]</td>\n",
       "    </tr>\n",
       "  </tbody>\n",
       "</table>\n",
       "</div>"
      ],
      "text/plain": [
       "   movie_id  vote_count    budget  \\\n",
       "0     14337        2098      7000   \n",
       "1      1124       15086  40000000   \n",
       "2     34584        3786  27000000   \n",
       "3     25376        2469   2000000   \n",
       "4      1024         882   5000000   \n",
       "\n",
       "                                             tagline  \\\n",
       "0                 What happens if it actually works?   \n",
       "1                          Are You Watching Closely?   \n",
       "2  A boy who needs a friend finds a world that ne...   \n",
       "3  An unsolved crime. A love story. An unwritten ...   \n",
       "4                       Not all angels are innocent.   \n",
       "\n",
       "                      title    revenue  \\\n",
       "0                    Primer     545436   \n",
       "1              The Prestige  109676311   \n",
       "2     The NeverEnding Story   20158808   \n",
       "3  The Secret in Their Eyes   33965843   \n",
       "4        Heavenly Creatures    3049135   \n",
       "\n",
       "                                            overview  release_year  \\\n",
       "0  Two fledgling inventors discover a complex met...          2004   \n",
       "1  A mysterious story of two magicians whose inte...          2006   \n",
       "2  While hiding from bullies in his school's atti...          1984   \n",
       "3  Hoping to put to rest years of unease concerni...          2009   \n",
       "4  Wealthy and precocious teenager Juliet transfe...          1994   \n",
       "\n",
       "   vote_average                               genres  \n",
       "0         6.768   [Science Fiction, Drama, Thriller]  \n",
       "1         8.203    [Drama, Mystery, Science Fiction]  \n",
       "2         7.194  [Adventure, Fantasy, Family, Drama]  \n",
       "3         8.002           [Mystery, Thriller, Drama]  \n",
       "4         7.000                     [Drama, Fantasy]  "
      ]
     },
     "execution_count": 6,
     "metadata": {},
     "output_type": "execute_result"
    }
   ],
   "source": [
    "from st_weaviate_connection import WeaviateFilter\n",
    "\n",
    "df = conn.query(\n",
    "    collection_name=\"MovieDemo\",\n",
    "    query=\"Fantasy or sci-fi drama\",\n",
    "    filters=WeaviateFilter.by_property(\"release_year\").less_than(2010)\n",
    ")\n",
    "\n",
    "df.head()"
   ]
  },
  {
   "cell_type": "markdown",
   "metadata": {
    "editable": true,
    "slideshow": {
     "slide_type": "subslide"
    },
    "tags": []
   },
   "source": [
    "If you prefer to use a raw GraphQL query, you can use the `.graphql_query` function."
   ]
  },
  {
   "cell_type": "code",
   "execution_count": 7,
   "metadata": {
    "editable": true,
    "slideshow": {
     "slide_type": "fragment"
    },
    "tags": []
   },
   "outputs": [
    {
     "name": "stderr",
     "output_type": "stream",
     "text": [
      "2024-07-31 17:14:01.162 No runtime found, using MemoryCacheStorageManager\n",
      "2024-07-31 17:14:01.165 No runtime found, using MemoryCacheStorageManager\n"
     ]
    },
    {
     "data": {
      "text/html": [
       "<div>\n",
       "<style scoped>\n",
       "    .dataframe tbody tr th:only-of-type {\n",
       "        vertical-align: middle;\n",
       "    }\n",
       "\n",
       "    .dataframe tbody tr th {\n",
       "        vertical-align: top;\n",
       "    }\n",
       "\n",
       "    .dataframe thead th {\n",
       "        text-align: right;\n",
       "    }\n",
       "</style>\n",
       "<table border=\"1\" class=\"dataframe\">\n",
       "  <thead>\n",
       "    <tr style=\"text-align: right;\">\n",
       "      <th></th>\n",
       "      <th>_additional</th>\n",
       "      <th>overview</th>\n",
       "      <th>title</th>\n",
       "      <th>vote_average</th>\n",
       "    </tr>\n",
       "  </thead>\n",
       "  <tbody>\n",
       "    <tr>\n",
       "      <th>0</th>\n",
       "      <td>{'distance': 0.44417703}</td>\n",
       "      <td>A sumptuous and sensual tale of intrigue, roma...</td>\n",
       "      <td>The Other Boleyn Girl</td>\n",
       "      <td>6.685</td>\n",
       "    </tr>\n",
       "    <tr>\n",
       "      <th>1</th>\n",
       "      <td>{'distance': 0.4576857}</td>\n",
       "      <td>An epic that details the checkered rise and fa...</td>\n",
       "      <td>Napoleon</td>\n",
       "      <td>6.428</td>\n",
       "    </tr>\n",
       "    <tr>\n",
       "      <th>2</th>\n",
       "      <td>{'distance': 0.47027773}</td>\n",
       "      <td>The timeless tale of King Arthur and the legen...</td>\n",
       "      <td>First Knight</td>\n",
       "      <td>6.079</td>\n",
       "    </tr>\n",
       "    <tr>\n",
       "      <th>3</th>\n",
       "      <td>{'distance': 0.4740405}</td>\n",
       "      <td>With Ran, legendary director Akira Kurosawa re...</td>\n",
       "      <td>Ran</td>\n",
       "      <td>8.078</td>\n",
       "    </tr>\n",
       "    <tr>\n",
       "      <th>4</th>\n",
       "      <td>{'distance': 0.47975093}</td>\n",
       "      <td>England, 15th century. Hal, a capricious princ...</td>\n",
       "      <td>The King</td>\n",
       "      <td>7.153</td>\n",
       "    </tr>\n",
       "    <tr>\n",
       "      <th>5</th>\n",
       "      <td>{'distance': 0.48198485}</td>\n",
       "      <td>Akira Kurosawa's lauded feudal epic presents t...</td>\n",
       "      <td>Kagemusha</td>\n",
       "      <td>7.805</td>\n",
       "    </tr>\n",
       "    <tr>\n",
       "      <th>6</th>\n",
       "      <td>{'distance': 0.4889692}</td>\n",
       "      <td>A fictional history of two legendary revolutio...</td>\n",
       "      <td>RRR</td>\n",
       "      <td>7.759</td>\n",
       "    </tr>\n",
       "    <tr>\n",
       "      <th>7</th>\n",
       "      <td>{'distance': 0.4907261}</td>\n",
       "      <td>Katherine Watson is a recent UCLA graduate hir...</td>\n",
       "      <td>Mona Lisa Smile</td>\n",
       "      <td>6.935</td>\n",
       "    </tr>\n",
       "    <tr>\n",
       "      <th>8</th>\n",
       "      <td>{'distance': 0.49372083}</td>\n",
       "      <td>The retelling of France’s iconic but ill-fated...</td>\n",
       "      <td>Marie Antoinette</td>\n",
       "      <td>6.695</td>\n",
       "    </tr>\n",
       "    <tr>\n",
       "      <th>9</th>\n",
       "      <td>{'distance': 0.4953565}</td>\n",
       "      <td>In 25 AD, Judah Ben-Hur, a Jew in ancient Jude...</td>\n",
       "      <td>Ben-Hur</td>\n",
       "      <td>7.889</td>\n",
       "    </tr>\n",
       "  </tbody>\n",
       "</table>\n",
       "</div>"
      ],
      "text/plain": [
       "                _additional  \\\n",
       "0  {'distance': 0.44417703}   \n",
       "1   {'distance': 0.4576857}   \n",
       "2  {'distance': 0.47027773}   \n",
       "3   {'distance': 0.4740405}   \n",
       "4  {'distance': 0.47975093}   \n",
       "5  {'distance': 0.48198485}   \n",
       "6   {'distance': 0.4889692}   \n",
       "7   {'distance': 0.4907261}   \n",
       "8  {'distance': 0.49372083}   \n",
       "9   {'distance': 0.4953565}   \n",
       "\n",
       "                                            overview                  title  \\\n",
       "0  A sumptuous and sensual tale of intrigue, roma...  The Other Boleyn Girl   \n",
       "1  An epic that details the checkered rise and fa...               Napoleon   \n",
       "2  The timeless tale of King Arthur and the legen...           First Knight   \n",
       "3  With Ran, legendary director Akira Kurosawa re...                    Ran   \n",
       "4  England, 15th century. Hal, a capricious princ...               The King   \n",
       "5  Akira Kurosawa's lauded feudal epic presents t...              Kagemusha   \n",
       "6  A fictional history of two legendary revolutio...                    RRR   \n",
       "7  Katherine Watson is a recent UCLA graduate hir...        Mona Lisa Smile   \n",
       "8  The retelling of France’s iconic but ill-fated...       Marie Antoinette   \n",
       "9  In 25 AD, Judah Ben-Hur, a Jew in ancient Jude...                Ben-Hur   \n",
       "\n",
       "   vote_average  \n",
       "0         6.685  \n",
       "1         6.428  \n",
       "2         6.079  \n",
       "3         8.078  \n",
       "4         7.153  \n",
       "5         7.805  \n",
       "6         7.759  \n",
       "7         6.935  \n",
       "8         6.695  \n",
       "9         7.889  "
      ]
     },
     "execution_count": 7,
     "metadata": {},
     "output_type": "execute_result"
    }
   ],
   "source": [
    "gql = \"\"\"\n",
    "{\n",
    "  Get {\n",
    "    MovieDemo (\n",
    "        limit: 10\n",
    "      nearText: {\n",
    "        concepts: [\"historical period film\"]\n",
    "      }\n",
    "    ) {\n",
    "      title\n",
    "      overview\n",
    "      vote_average\n",
    "      _additional {\n",
    "        distance\n",
    "      }\n",
    "    }\n",
    "  }\n",
    "}\n",
    "\"\"\"\n",
    "\n",
    "df = conn.graphql_query(gql)\n",
    "df"
   ]
  },
  {
   "cell_type": "markdown",
   "metadata": {
    "editable": true,
    "slideshow": {
     "slide_type": "slide"
    },
    "tags": []
   },
   "source": [
    "## Advanced Usage\n",
    "\n",
    "The Streamlit connector is a thin wrapper around the Weaviate Python client. \n",
    "\n",
    "This means that you can use the Weaviate Python client directly to perform more advanced operations.\n",
    "\n",
    "We recommend using the client object in a context manager to ensure that no resources are leaked."
   ]
  },
  {
   "attachments": {},
   "cell_type": "markdown",
   "metadata": {
    "editable": true,
    "slideshow": {
     "slide_type": "subslide"
    },
    "tags": []
   },
   "source": [
    "### Example: Perform retrieval augmented generation"
   ]
  },
  {
   "cell_type": "code",
   "execution_count": null,
   "metadata": {
    "editable": true,
    "slideshow": {
     "slide_type": "fragment"
    },
    "tags": []
   },
   "outputs": [],
   "source": [
    "with conn.client() as client:\n",
    "    collection = client.collections.get(\"MovieDemo\")\n",
    "    response = collection.generate.hybrid(\n",
    "        limit=20,\n",
    "        query=\"Fantasy or sci-fi drama\",\n",
    "        grouped_task=\"From these, recommend one or two movies that would be family friendly!\",\n",
    "        grouped_properties=[\"title\", \"tagline\"],\n",
    "    )\n",
    "\n",
    "    print(\"## Generated recommendation\")\n",
    "    print(response.generated)\n",
    "    print(\"\\n## Source data\")\n",
    "    for o in response.objects:\n",
    "        print(f\"Title: {o.properties['title']}\")"
   ]
  },
  {
   "cell_type": "markdown",
   "metadata": {
    "editable": true,
    "slideshow": {
     "slide_type": ""
    },
    "tags": []
   },
   "source": [
    "See the [Weaviate Python client documentation](https://weaviate.io/developers/weaviate/client-libraries/python), and the [Weaviate documentation](https://weaviate.io/developers/weaviate/) for more information on the available operations."
   ]
  },
  {
   "cell_type": "markdown",
   "metadata": {
    "editable": true,
    "slideshow": {
     "slide_type": "slide"
    },
    "tags": []
   },
   "source": [
    "## Use a local Weaviate instance"
   ]
  },
  {
   "cell_type": "markdown",
   "metadata": {
    "editable": true,
    "slideshow": {
     "slide_type": "fragment"
    },
    "tags": []
   },
   "source": [
    "To connect to a local instance instead, specify the `url` parameter as `\"localhost\"` as shown below.\n",
    "\n",
    "Then, you will be connected to the local Weaviate instance with default settings."
   ]
  },
  {
   "cell_type": "code",
   "execution_count": null,
   "metadata": {
    "editable": true,
    "slideshow": {
     "slide_type": ""
    },
    "tags": []
   },
   "outputs": [],
   "source": [
    "conn = st.connection(\n",
    "    \"weaviate\",\n",
    "    type=WeaviateConnection,\n",
    "    url=\"localhost\",\n",
    ")"
   ]
  },
  {
   "attachments": {},
   "cell_type": "markdown",
   "metadata": {
    "editable": true,
    "slideshow": {
     "slide_type": "slide"
    },
    "tags": []
   },
   "source": [
    "## Using Secrets"
   ]
  },
  {
   "attachments": {},
   "cell_type": "markdown",
   "metadata": {
    "editable": true,
    "slideshow": {
     "slide_type": ""
    },
    "tags": []
   },
   "source": [
    "The following are valid values you can specify in your `secrets.toml` file when using this connection:\n",
    "\n",
    "| Config | Description |\n",
    "| --- | --- |\n",
    "| WEAVIATE_URL | The url of the weavite instance you want to connect to |\n",
    "| WEAVIATE_API_KEY | The corresponding api key of the weaviate instance you want to connect to (if applicable) |\n",
    "\n",
    "For more details, refer to:\n",
    "\n",
    "* [How to use secrets management](https://docs.streamlit.io/library/advanced-features/secrets-management#how-to-use-secrets-management)\n",
    "* [st.connection](https://docs.streamlit.io/library/api-reference/connections/st.connection)"
   ]
  },
  {
   "cell_type": "markdown",
   "metadata": {
    "editable": true,
    "slideshow": {
     "slide_type": "slide"
    },
    "tags": []
   },
   "source": [
    "## Using the Weaviate client library directly\n",
    "\n",
    "You can also use the Weaviate client library directly to perform more advanced operations.\n",
    "\n",
    "Please see the [Weaviate Python client documentation](https://weaviate.io/developers/weaviate/client-libraries/python) for more information."
   ]
  }
 ],
 "metadata": {
  "kernelspec": {
   "display_name": "Python 3 (ipykernel)",
   "language": "python",
   "name": "python3"
  },
  "language_info": {
   "codemirror_mode": {
    "name": "ipython",
    "version": 3
   },
   "file_extension": ".py",
   "mimetype": "text/x-python",
   "name": "python",
   "nbconvert_exporter": "python",
   "pygments_lexer": "ipython3",
   "version": "3.11.6"
  }
 },
 "nbformat": 4,
 "nbformat_minor": 4
}
